{
 "cells": [
  {
   "cell_type": "code",
   "execution_count": 2,
   "id": "30ee6216-f535-429f-9976-72206ed90faa",
   "metadata": {},
   "outputs": [
    {
     "ename": "ModuleNotFoundError",
     "evalue": "No module named 'matplotlib'",
     "output_type": "error",
     "traceback": [
      "\u001b[31m---------------------------------------------------------------------------\u001b[39m",
      "\u001b[31mModuleNotFoundError\u001b[39m                       Traceback (most recent call last)",
      "\u001b[36mCell\u001b[39m\u001b[36m \u001b[39m\u001b[32mIn[2]\u001b[39m\u001b[32m, line 3\u001b[39m\n\u001b[32m      1\u001b[39m \u001b[38;5;28;01mimport\u001b[39;00m\u001b[38;5;250m \u001b[39m\u001b[34;01mnumpy\u001b[39;00m\u001b[38;5;250m \u001b[39m\u001b[38;5;28;01mas\u001b[39;00m\u001b[38;5;250m \u001b[39m\u001b[34;01mnp\u001b[39;00m\n\u001b[32m      2\u001b[39m \u001b[38;5;28;01mimport\u001b[39;00m\u001b[38;5;250m \u001b[39m\u001b[34;01mpandas\u001b[39;00m\u001b[38;5;250m \u001b[39m\u001b[38;5;28;01mas\u001b[39;00m\u001b[38;5;250m \u001b[39m\u001b[34;01mpd\u001b[39;00m\n\u001b[32m----> \u001b[39m\u001b[32m3\u001b[39m \u001b[38;5;28;01mimport\u001b[39;00m\u001b[38;5;250m \u001b[39m\u001b[34;01mmatplotlib\u001b[39;00m\u001b[34;01m.\u001b[39;00m\u001b[34;01mpyplot\u001b[39;00m\u001b[38;5;250m \u001b[39m\u001b[38;5;28;01mas\u001b[39;00m\u001b[38;5;250m \u001b[39m\u001b[34;01mplt\u001b[39;00m\n\u001b[32m      4\u001b[39m \u001b[38;5;28;01mimport\u001b[39;00m\u001b[38;5;250m \u001b[39m\u001b[34;01mseaborn\u001b[39;00m\u001b[38;5;250m \u001b[39m\u001b[38;5;28;01mas\u001b[39;00m\u001b[38;5;250m \u001b[39m\u001b[34;01msns\u001b[39;00m\n",
      "\u001b[31mModuleNotFoundError\u001b[39m: No module named 'matplotlib'"
     ]
    }
   ],
   "source": [
    "import numpy as np\n",
    "import pandas as pd\n",
    "import matplotlib.pyplot as plt\n",
    "import seaborn as sns"
   ]
  },
  {
   "cell_type": "code",
   "execution_count": 3,
   "id": "b98dd677-54a0-436f-886d-b9a917f9f8b3",
   "metadata": {},
   "outputs": [
    {
     "data": {
      "text/html": [
       "<div>\n",
       "<style scoped>\n",
       "    .dataframe tbody tr th:only-of-type {\n",
       "        vertical-align: middle;\n",
       "    }\n",
       "\n",
       "    .dataframe tbody tr th {\n",
       "        vertical-align: top;\n",
       "    }\n",
       "\n",
       "    .dataframe thead th {\n",
       "        text-align: right;\n",
       "    }\n",
       "</style>\n",
       "<table border=\"1\" class=\"dataframe\">\n",
       "  <thead>\n",
       "    <tr style=\"text-align: right;\">\n",
       "      <th></th>\n",
       "      <th>Sensor_1</th>\n",
       "      <th>Sensor_2</th>\n",
       "      <th>Sensor_3</th>\n",
       "      <th>Sensor_4</th>\n",
       "      <th>Sensor_5</th>\n",
       "      <th>Sensor_6</th>\n",
       "      <th>Fault</th>\n",
       "    </tr>\n",
       "  </thead>\n",
       "  <tbody>\n",
       "    <tr>\n",
       "      <th>count</th>\n",
       "      <td>3000.000000</td>\n",
       "      <td>3000.000000</td>\n",
       "      <td>3000.000000</td>\n",
       "      <td>3000.000000</td>\n",
       "      <td>2850.000000</td>\n",
       "      <td>3000.000000</td>\n",
       "      <td>3000.000000</td>\n",
       "    </tr>\n",
       "    <tr>\n",
       "      <th>mean</th>\n",
       "      <td>0.282350</td>\n",
       "      <td>-0.034925</td>\n",
       "      <td>0.386357</td>\n",
       "      <td>100.071609</td>\n",
       "      <td>10.033604</td>\n",
       "      <td>1.498571</td>\n",
       "      <td>0.200000</td>\n",
       "    </tr>\n",
       "    <tr>\n",
       "      <th>std</th>\n",
       "      <td>0.157657</td>\n",
       "      <td>0.975404</td>\n",
       "      <td>0.945288</td>\n",
       "      <td>29.898577</td>\n",
       "      <td>5.024830</td>\n",
       "      <td>1.516585</td>\n",
       "      <td>0.400067</td>\n",
       "    </tr>\n",
       "    <tr>\n",
       "      <th>min</th>\n",
       "      <td>0.003445</td>\n",
       "      <td>-3.179870</td>\n",
       "      <td>-3.001669</td>\n",
       "      <td>40.090238</td>\n",
       "      <td>-6.440784</td>\n",
       "      <td>0.000945</td>\n",
       "      <td>0.000000</td>\n",
       "    </tr>\n",
       "    <tr>\n",
       "      <th>25%</th>\n",
       "      <td>0.152271</td>\n",
       "      <td>-0.698720</td>\n",
       "      <td>-0.128212</td>\n",
       "      <td>74.223633</td>\n",
       "      <td>6.666244</td>\n",
       "      <td>0.426473</td>\n",
       "      <td>0.000000</td>\n",
       "    </tr>\n",
       "    <tr>\n",
       "      <th>50%</th>\n",
       "      <td>0.260383</td>\n",
       "      <td>-0.048992</td>\n",
       "      <td>0.405202</td>\n",
       "      <td>100.206000</td>\n",
       "      <td>10.017329</td>\n",
       "      <td>0.992030</td>\n",
       "      <td>0.000000</td>\n",
       "    </tr>\n",
       "    <tr>\n",
       "      <th>75%</th>\n",
       "      <td>0.394636</td>\n",
       "      <td>0.627771</td>\n",
       "      <td>1.008773</td>\n",
       "      <td>124.319254</td>\n",
       "      <td>13.603624</td>\n",
       "      <td>2.095111</td>\n",
       "      <td>0.000000</td>\n",
       "    </tr>\n",
       "    <tr>\n",
       "      <th>max</th>\n",
       "      <td>0.788990</td>\n",
       "      <td>3.280300</td>\n",
       "      <td>3.103201</td>\n",
       "      <td>179.859989</td>\n",
       "      <td>28.432520</td>\n",
       "      <td>12.117814</td>\n",
       "      <td>1.000000</td>\n",
       "    </tr>\n",
       "  </tbody>\n",
       "</table>\n",
       "</div>"
      ],
      "text/plain": [
       "          Sensor_1     Sensor_2     Sensor_3     Sensor_4     Sensor_5  \\\n",
       "count  3000.000000  3000.000000  3000.000000  3000.000000  2850.000000   \n",
       "mean      0.282350    -0.034925     0.386357   100.071609    10.033604   \n",
       "std       0.157657     0.975404     0.945288    29.898577     5.024830   \n",
       "min       0.003445    -3.179870    -3.001669    40.090238    -6.440784   \n",
       "25%       0.152271    -0.698720    -0.128212    74.223633     6.666244   \n",
       "50%       0.260383    -0.048992     0.405202   100.206000    10.017329   \n",
       "75%       0.394636     0.627771     1.008773   124.319254    13.603624   \n",
       "max       0.788990     3.280300     3.103201   179.859989    28.432520   \n",
       "\n",
       "          Sensor_6        Fault  \n",
       "count  3000.000000  3000.000000  \n",
       "mean      1.498571     0.200000  \n",
       "std       1.516585     0.400067  \n",
       "min       0.000945     0.000000  \n",
       "25%       0.426473     0.000000  \n",
       "50%       0.992030     0.000000  \n",
       "75%       2.095111     0.000000  \n",
       "max      12.117814     1.000000  "
      ]
     },
     "execution_count": 3,
     "metadata": {},
     "output_type": "execute_result"
    }
   ],
   "source": [
    "df=pd.read_csv(\"ANN_Challenge_Train_v1.csv\")\n",
    "df.describe()"
   ]
  },
  {
   "cell_type": "code",
   "execution_count": 4,
   "id": "6e1f5bbd-cfbc-4ce6-a738-38110702b25a",
   "metadata": {},
   "outputs": [
    {
     "name": "stdout",
     "output_type": "stream",
     "text": [
      "<class 'pandas.core.frame.DataFrame'>\n",
      "RangeIndex: 3000 entries, 0 to 2999\n",
      "Data columns (total 7 columns):\n",
      " #   Column    Non-Null Count  Dtype  \n",
      "---  ------    --------------  -----  \n",
      " 0   Sensor_1  3000 non-null   float64\n",
      " 1   Sensor_2  3000 non-null   float64\n",
      " 2   Sensor_3  3000 non-null   float64\n",
      " 3   Sensor_4  3000 non-null   float64\n",
      " 4   Sensor_5  2850 non-null   float64\n",
      " 5   Sensor_6  3000 non-null   float64\n",
      " 6   Fault     3000 non-null   int64  \n",
      "dtypes: float64(6), int64(1)\n",
      "memory usage: 164.2 KB\n"
     ]
    }
   ],
   "source": [
    "df.info()"
   ]
  },
  {
   "cell_type": "code",
   "execution_count": 5,
   "id": "322041eb-1df5-4ccf-bb45-12dcd4c5eff5",
   "metadata": {},
   "outputs": [
    {
     "data": {
      "text/plain": [
       "Sensor_1      0\n",
       "Sensor_2      0\n",
       "Sensor_3      0\n",
       "Sensor_4      0\n",
       "Sensor_5    150\n",
       "Sensor_6      0\n",
       "Fault         0\n",
       "dtype: int64"
      ]
     },
     "execution_count": 5,
     "metadata": {},
     "output_type": "execute_result"
    }
   ],
   "source": [
    "df.isnull().sum()"
   ]
  },
  {
   "cell_type": "markdown",
   "id": "6ca2619b-2138-4c7f-97a0-4f3c81fc5a36",
   "metadata": {},
   "source": [
    "## NULL COUNT:150"
   ]
  },
  {
   "cell_type": "code",
   "execution_count": 6,
   "id": "2c07eec0-63f1-444f-b3f1-a1b3d636082b",
   "metadata": {},
   "outputs": [
    {
     "ename": "NameError",
     "evalue": "name 'plt' is not defined",
     "output_type": "error",
     "traceback": [
      "\u001b[31m---------------------------------------------------------------------------\u001b[39m",
      "\u001b[31mNameError\u001b[39m                                 Traceback (most recent call last)",
      "\u001b[36mCell\u001b[39m\u001b[36m \u001b[39m\u001b[32mIn[6]\u001b[39m\u001b[32m, line 1\u001b[39m\n\u001b[32m----> \u001b[39m\u001b[32m1\u001b[39m plt.figure(figsize=(\u001b[32m6\u001b[39m, \u001b[32m4\u001b[39m))\n\u001b[32m      2\u001b[39m sns.countplot(data=df, x=\u001b[33m'\u001b[39m\u001b[33mFault\u001b[39m\u001b[33m'\u001b[39m, palette=\u001b[33m'\u001b[39m\u001b[33mSet2\u001b[39m\u001b[33m'\u001b[39m)\n\u001b[32m      3\u001b[39m plt.title(\u001b[33m\"\u001b[39m\u001b[33mFault Label Distribution\u001b[39m\u001b[33m\"\u001b[39m)\n",
      "\u001b[31mNameError\u001b[39m: name 'plt' is not defined"
     ]
    }
   ],
   "source": [
    "plt.figure(figsize=(6, 4))\n",
    "sns.countplot(data=df, x='Fault', palette='Set2')\n",
    "plt.title(\"Fault Label Distribution\")\n",
    "plt.xticks([0, 1], ['Normal (0)', 'Faulty (1)'])\n",
    "plt.ylabel(\"Count\")\n",
    "plt.xlabel(\"Fault Label\")\n",
    "plt.show()\n",
    "df['Fault'].value_counts(normalize=True)"
   ]
  },
  {
   "cell_type": "markdown",
   "id": "ecb39acb-1be7-4a26-a490-a17620eb13e6",
   "metadata": {},
   "source": [
    "## 20% faulty "
   ]
  },
  {
   "cell_type": "code",
   "execution_count": 7,
   "id": "7b783602-47ef-4846-a6d0-9ed53b1120bb",
   "metadata": {},
   "outputs": [
    {
     "ename": "NameError",
     "evalue": "name 'plt' is not defined",
     "output_type": "error",
     "traceback": [
      "\u001b[31m---------------------------------------------------------------------------\u001b[39m",
      "\u001b[31mNameError\u001b[39m                                 Traceback (most recent call last)",
      "\u001b[36mCell\u001b[39m\u001b[36m \u001b[39m\u001b[32mIn[7]\u001b[39m\u001b[32m, line 12\u001b[39m\n\u001b[32m      9\u001b[39m n_cols = \u001b[32m3\u001b[39m\n\u001b[32m     10\u001b[39m n_rows = -(-\u001b[38;5;28mlen\u001b[39m(sensor_cols) // n_cols)  \u001b[38;5;66;03m# Ceiling division to get the number of rows\u001b[39;00m\n\u001b[32m---> \u001b[39m\u001b[32m12\u001b[39m plt.figure(figsize=(n_cols * \u001b[32m5\u001b[39m, n_rows * \u001b[32m3\u001b[39m))  \u001b[38;5;66;03m# Customize the overall figure size\u001b[39;00m\n\u001b[32m     14\u001b[39m \u001b[38;5;28;01mfor\u001b[39;00m i, col \u001b[38;5;129;01min\u001b[39;00m \u001b[38;5;28menumerate\u001b[39m(sensor_cols):\n\u001b[32m     15\u001b[39m     plt.subplot(n_rows, n_cols, i + \u001b[32m1\u001b[39m)\n",
      "\u001b[31mNameError\u001b[39m: name 'plt' is not defined"
     ]
    }
   ],
   "source": [
    "# Identify all sensor columns\n",
    "sensor_cols = [col for col in df.columns if col.startswith('Sensor_')]\n",
    "\n",
    "# Create a new column as the product of all sensor values row-wise\n",
    "df['Sensor_Product'] = df[sensor_cols].prod(axis=1)\n",
    "sensor_cols = [col for col in df.columns if col.startswith('Sensor_')]\n",
    "\n",
    "# Set the number of plots per row\n",
    "n_cols = 3\n",
    "n_rows = -(-len(sensor_cols) // n_cols)  # Ceiling division to get the number of rows\n",
    "\n",
    "plt.figure(figsize=(n_cols * 5, n_rows * 3))  # Customize the overall figure size\n",
    "\n",
    "for i, col in enumerate(sensor_cols):\n",
    "    plt.subplot(n_rows, n_cols, i + 1)\n",
    "    sns.histplot(data=df, x=col, hue='Fault', kde=True, bins=40, element=\"step\", palette='Set2', legend=False)\n",
    "    plt.title(f\"{col}\")\n",
    "    plt.xlabel('')\n",
    "    plt.ylabel('')\n",
    "\n",
    "plt.tight_layout()\n",
    "plt.show()"
   ]
  },
  {
   "cell_type": "code",
   "execution_count": 8,
   "id": "2176ad24-8dce-4a9b-98c5-f74981247a86",
   "metadata": {},
   "outputs": [
    {
     "name": "stderr",
     "output_type": "stream",
     "text": [
      "C:\\Users\\Jeetu Modi\\Desktop\\Machine Learning\\Lib\\site-packages\\pandas\\core\\arraylike.py:399: RuntimeWarning: invalid value encountered in log1p\n",
      "  result = getattr(ufunc, method)(*inputs, **kwargs)\n"
     ]
    }
   ],
   "source": [
    "df['Sensor_1_minus_2'] = df['Sensor_1'] - df['Sensor_2']\n",
    "df['Sensor_2_minus_3'] = df['Sensor_2'] - df['Sensor_3']\n",
    "# delta\n",
    "\n",
    "df['Sensor_1_div_2'] = df['Sensor_1'] / (df['Sensor_2'] + 1e-6)\n",
    "# ratio\n",
    "\n",
    "df['Sensor_1_sq'] = df['Sensor_1'] ** 2\n",
    "df['Sensor_1_x_Sensor_2'] = df['Sensor_1'] * df['Sensor_2']\n",
    "# polynomial\n",
    "\n",
    "df['Sensor_product_log'] = np.log1p(df['Sensor_Product'])\n",
    "# step cures fixing\n",
    "\n",
    "for col in sensor_cols:\n",
    "    df[f'{col}_zscore'] = (df[col] - df[col].mean()) / df[col].std()\n"
   ]
  },
  {
   "cell_type": "code",
   "execution_count": 9,
   "id": "3bb30d50-31d3-4b46-9006-887ef10830ec",
   "metadata": {},
   "outputs": [
    {
     "ename": "NameError",
     "evalue": "name 'plt' is not defined",
     "output_type": "error",
     "traceback": [
      "\u001b[31m---------------------------------------------------------------------------\u001b[39m",
      "\u001b[31mNameError\u001b[39m                                 Traceback (most recent call last)",
      "\u001b[36mCell\u001b[39m\u001b[36m \u001b[39m\u001b[32mIn[9]\u001b[39m\u001b[32m, line 7\u001b[39m\n\u001b[32m      4\u001b[39m n_cols = \u001b[32m5\u001b[39m\n\u001b[32m      5\u001b[39m n_rows = -(-\u001b[38;5;28mlen\u001b[39m(sensor_cols) // n_cols)  \u001b[38;5;66;03m# Ceiling division to get the number of rows\u001b[39;00m\n\u001b[32m----> \u001b[39m\u001b[32m7\u001b[39m plt.figure(figsize=(n_cols * \u001b[32m5\u001b[39m, n_rows * \u001b[32m3\u001b[39m))  \u001b[38;5;66;03m# Customize the overall figure size\u001b[39;00m\n\u001b[32m      9\u001b[39m \u001b[38;5;28;01mfor\u001b[39;00m i, col \u001b[38;5;129;01min\u001b[39;00m \u001b[38;5;28menumerate\u001b[39m(sensor_cols):\n\u001b[32m     10\u001b[39m     plt.subplot(n_rows, n_cols, i + \u001b[32m1\u001b[39m)\n",
      "\u001b[31mNameError\u001b[39m: name 'plt' is not defined"
     ]
    }
   ],
   "source": [
    "sensor_cols = [col for col in df.columns if col.startswith('Sensor_')]\n",
    "\n",
    "# Set the number of plots per row\n",
    "n_cols = 5\n",
    "n_rows = -(-len(sensor_cols) // n_cols)  # Ceiling division to get the number of rows\n",
    "\n",
    "plt.figure(figsize=(n_cols * 5, n_rows * 3))  # Customize the overall figure size\n",
    "\n",
    "for i, col in enumerate(sensor_cols):\n",
    "    plt.subplot(n_rows, n_cols, i + 1)\n",
    "    sns.histplot(data=df, x=col, hue='Fault', kde=True, bins=40, element=\"step\", palette='Set2', legend=False)\n",
    "    plt.title(f\"{col}\")\n",
    "    plt.xlabel('')\n",
    "    plt.ylabel('')\n",
    "\n",
    "plt.tight_layout()\n",
    "plt.show()"
   ]
  },
  {
   "cell_type": "code",
   "execution_count": 10,
   "id": "618773e5-86ff-49bd-9ea5-c0149512dc77",
   "metadata": {},
   "outputs": [],
   "source": [
    "def heatmap(sensor_cols):\n",
    "    plt.figure(figsize=(10, 8))\n",
    "    corr = df[sensor_cols + ['Fault']].corr()\n",
    "    sns.heatmap(corr, annot=True, cmap='coolwarm', fmt=\".2f\", square=True)\n",
    "    plt.title(\"Correlation Matrix (Sensors + Fault)\")\n",
    "    plt.show()"
   ]
  },
  {
   "cell_type": "code",
   "execution_count": 11,
   "id": "5a14ce14-a95b-42c9-a63f-426ccc113bc5",
   "metadata": {},
   "outputs": [
    {
     "ename": "NameError",
     "evalue": "name 'plt' is not defined",
     "output_type": "error",
     "traceback": [
      "\u001b[31m---------------------------------------------------------------------------\u001b[39m",
      "\u001b[31mNameError\u001b[39m                                 Traceback (most recent call last)",
      "\u001b[36mCell\u001b[39m\u001b[36m \u001b[39m\u001b[32mIn[11]\u001b[39m\u001b[32m, line 1\u001b[39m\n\u001b[32m----> \u001b[39m\u001b[32m1\u001b[39m heatmap(sensor_cols)\n",
      "\u001b[36mCell\u001b[39m\u001b[36m \u001b[39m\u001b[32mIn[10]\u001b[39m\u001b[32m, line 2\u001b[39m, in \u001b[36mheatmap\u001b[39m\u001b[34m(sensor_cols)\u001b[39m\n\u001b[32m      1\u001b[39m \u001b[38;5;28;01mdef\u001b[39;00m\u001b[38;5;250m \u001b[39m\u001b[34mheatmap\u001b[39m(sensor_cols):\n\u001b[32m----> \u001b[39m\u001b[32m2\u001b[39m     plt.figure(figsize=(\u001b[32m10\u001b[39m, \u001b[32m8\u001b[39m))\n\u001b[32m      3\u001b[39m     corr = df[sensor_cols + [\u001b[33m'\u001b[39m\u001b[33mFault\u001b[39m\u001b[33m'\u001b[39m]].corr()\n\u001b[32m      4\u001b[39m     sns.heatmap(corr, annot=\u001b[38;5;28;01mTrue\u001b[39;00m, cmap=\u001b[33m'\u001b[39m\u001b[33mcoolwarm\u001b[39m\u001b[33m'\u001b[39m, fmt=\u001b[33m\"\u001b[39m\u001b[33m.2f\u001b[39m\u001b[33m\"\u001b[39m, square=\u001b[38;5;28;01mTrue\u001b[39;00m)\n",
      "\u001b[31mNameError\u001b[39m: name 'plt' is not defined"
     ]
    }
   ],
   "source": [
    "heatmap(sensor_cols)"
   ]
  },
  {
   "cell_type": "code",
   "execution_count": 12,
   "id": "5aa2e913-c3b0-4481-9946-890cd1887f9d",
   "metadata": {},
   "outputs": [],
   "source": [
    "best_features = [\n",
    "    'Sensor_1_zscore', 'Sensor_2_zscore', 'Sensor_3_zscore',\n",
    "    'Sensor_4_zscore', 'Sensor_5_zscore', 'Sensor_6_zscore',\n",
    "     'Sensor_1_x_Sensor_2',\n",
    "    'Sensor_1_sq', 'Sensor_product_log',\n",
    "]"
   ]
  },
  {
   "cell_type": "code",
   "execution_count": 13,
   "id": "74632b51-c526-42ba-8bc2-c4d6b0d1578e",
   "metadata": {},
   "outputs": [
    {
     "ename": "NameError",
     "evalue": "name 'plt' is not defined",
     "output_type": "error",
     "traceback": [
      "\u001b[31m---------------------------------------------------------------------------\u001b[39m",
      "\u001b[31mNameError\u001b[39m                                 Traceback (most recent call last)",
      "\u001b[36mCell\u001b[39m\u001b[36m \u001b[39m\u001b[32mIn[13]\u001b[39m\u001b[32m, line 1\u001b[39m\n\u001b[32m----> \u001b[39m\u001b[32m1\u001b[39m heatmap(best_features)\n",
      "\u001b[36mCell\u001b[39m\u001b[36m \u001b[39m\u001b[32mIn[10]\u001b[39m\u001b[32m, line 2\u001b[39m, in \u001b[36mheatmap\u001b[39m\u001b[34m(sensor_cols)\u001b[39m\n\u001b[32m      1\u001b[39m \u001b[38;5;28;01mdef\u001b[39;00m\u001b[38;5;250m \u001b[39m\u001b[34mheatmap\u001b[39m(sensor_cols):\n\u001b[32m----> \u001b[39m\u001b[32m2\u001b[39m     plt.figure(figsize=(\u001b[32m10\u001b[39m, \u001b[32m8\u001b[39m))\n\u001b[32m      3\u001b[39m     corr = df[sensor_cols + [\u001b[33m'\u001b[39m\u001b[33mFault\u001b[39m\u001b[33m'\u001b[39m]].corr()\n\u001b[32m      4\u001b[39m     sns.heatmap(corr, annot=\u001b[38;5;28;01mTrue\u001b[39;00m, cmap=\u001b[33m'\u001b[39m\u001b[33mcoolwarm\u001b[39m\u001b[33m'\u001b[39m, fmt=\u001b[33m\"\u001b[39m\u001b[33m.2f\u001b[39m\u001b[33m\"\u001b[39m, square=\u001b[38;5;28;01mTrue\u001b[39;00m)\n",
      "\u001b[31mNameError\u001b[39m: name 'plt' is not defined"
     ]
    }
   ],
   "source": [
    "heatmap(best_features)"
   ]
  },
  {
   "cell_type": "code",
   "execution_count": 14,
   "id": "77586b2f-4157-4a78-8dfc-2ad37c6ee1f4",
   "metadata": {},
   "outputs": [],
   "source": [
    "train_data_imputed = df.copy()\n",
    "for col in best_features:\n",
    "    train_data_imputed[col] = train_data_imputed[col].fillna(train_data_imputed[col].median())"
   ]
  },
  {
   "cell_type": "code",
   "execution_count": 15,
   "id": "067bea5e-7f34-4edd-8e7f-d9e5d3cc3568",
   "metadata": {},
   "outputs": [],
   "source": [
    "from sklearn.preprocessing import StandardScaler\n",
    "\n",
    "# Select features for scaling\n",
    "X = train_data_imputed[best_features]\n",
    "y = train_data_imputed['Fault']\n",
    "\n",
    "# Initialize scaler\n",
    "scaler = StandardScaler()\n",
    "X_scaled = scaler.fit_transform(X)"
   ]
  },
  {
   "cell_type": "code",
   "execution_count": 17,
   "id": "ee7a6cca-1b4b-4fb4-9d6b-34ae8afc6870",
   "metadata": {},
   "outputs": [],
   "source": [
    "from sklearn.model_selection import train_test_split\n",
    "from sklearn.utils.class_weight import compute_class_weight\n",
    "import numpy as np\n",
    "\n",
    "# Train-validation split with stratification\n",
    "X_train, X_val, y_train, y_val = train_test_split(\n",
    "    X_scaled, y, test_size=0.2, random_state=42, stratify=y\n",
    ")\n",
    "\n",
    "# Compute class weights to handle imbalance\n",
    "from imblearn.over_sampling import RandomOverSampler\n",
    "\n",
    "ros = RandomOverSampler(random_state=42)\n",
    "X_resampled, y_resampled = ros.fit_resample(X_train, y_train)\n",
    "\n"
   ]
  },
  {
   "cell_type": "code",
   "execution_count": 18,
   "id": "d35a16ca-7720-47b8-9fe0-9e3550e6a268",
   "metadata": {},
   "outputs": [
    {
     "name": "stderr",
     "output_type": "stream",
     "text": [
      "C:\\Users\\Jeetu Modi\\AppData\\Roaming\\Python\\Python312\\site-packages\\keras\\src\\layers\\core\\dense.py:87: UserWarning: Do not pass an `input_shape`/`input_dim` argument to a layer. When using Sequential models, prefer using an `Input(shape)` object as the first layer in the model instead.\n",
      "  super().__init__(activity_regularizer=activity_regularizer, **kwargs)\n"
     ]
    },
    {
     "data": {
      "text/html": [
       "<pre style=\"white-space:pre;overflow-x:auto;line-height:normal;font-family:Menlo,'DejaVu Sans Mono',consolas,'Courier New',monospace\"><span style=\"font-weight: bold\">Model: \"sequential\"</span>\n",
       "</pre>\n"
      ],
      "text/plain": [
       "\u001b[1mModel: \"sequential\"\u001b[0m\n"
      ]
     },
     "metadata": {},
     "output_type": "display_data"
    },
    {
     "data": {
      "text/html": [
       "<pre style=\"white-space:pre;overflow-x:auto;line-height:normal;font-family:Menlo,'DejaVu Sans Mono',consolas,'Courier New',monospace\">┏━━━━━━━━━━━━━━━━━━━━━━━━━━━━━━━━━━━━━━┳━━━━━━━━━━━━━━━━━━━━━━━━━━━━━┳━━━━━━━━━━━━━━━━━┓\n",
       "┃<span style=\"font-weight: bold\"> Layer (type)                         </span>┃<span style=\"font-weight: bold\"> Output Shape                </span>┃<span style=\"font-weight: bold\">         Param # </span>┃\n",
       "┡━━━━━━━━━━━━━━━━━━━━━━━━━━━━━━━━━━━━━━╇━━━━━━━━━━━━━━━━━━━━━━━━━━━━━╇━━━━━━━━━━━━━━━━━┩\n",
       "│ dense (<span style=\"color: #0087ff; text-decoration-color: #0087ff\">Dense</span>)                        │ (<span style=\"color: #00d7ff; text-decoration-color: #00d7ff\">None</span>, <span style=\"color: #00af00; text-decoration-color: #00af00\">256</span>)                 │           <span style=\"color: #00af00; text-decoration-color: #00af00\">2,560</span> │\n",
       "├──────────────────────────────────────┼─────────────────────────────┼─────────────────┤\n",
       "│ batch_normalization                  │ (<span style=\"color: #00d7ff; text-decoration-color: #00d7ff\">None</span>, <span style=\"color: #00af00; text-decoration-color: #00af00\">256</span>)                 │           <span style=\"color: #00af00; text-decoration-color: #00af00\">1,024</span> │\n",
       "│ (<span style=\"color: #0087ff; text-decoration-color: #0087ff\">BatchNormalization</span>)                 │                             │                 │\n",
       "├──────────────────────────────────────┼─────────────────────────────┼─────────────────┤\n",
       "│ dropout (<span style=\"color: #0087ff; text-decoration-color: #0087ff\">Dropout</span>)                    │ (<span style=\"color: #00d7ff; text-decoration-color: #00d7ff\">None</span>, <span style=\"color: #00af00; text-decoration-color: #00af00\">256</span>)                 │               <span style=\"color: #00af00; text-decoration-color: #00af00\">0</span> │\n",
       "├──────────────────────────────────────┼─────────────────────────────┼─────────────────┤\n",
       "│ dense_1 (<span style=\"color: #0087ff; text-decoration-color: #0087ff\">Dense</span>)                      │ (<span style=\"color: #00d7ff; text-decoration-color: #00d7ff\">None</span>, <span style=\"color: #00af00; text-decoration-color: #00af00\">128</span>)                 │          <span style=\"color: #00af00; text-decoration-color: #00af00\">32,896</span> │\n",
       "├──────────────────────────────────────┼─────────────────────────────┼─────────────────┤\n",
       "│ batch_normalization_1                │ (<span style=\"color: #00d7ff; text-decoration-color: #00d7ff\">None</span>, <span style=\"color: #00af00; text-decoration-color: #00af00\">128</span>)                 │             <span style=\"color: #00af00; text-decoration-color: #00af00\">512</span> │\n",
       "│ (<span style=\"color: #0087ff; text-decoration-color: #0087ff\">BatchNormalization</span>)                 │                             │                 │\n",
       "├──────────────────────────────────────┼─────────────────────────────┼─────────────────┤\n",
       "│ dropout_1 (<span style=\"color: #0087ff; text-decoration-color: #0087ff\">Dropout</span>)                  │ (<span style=\"color: #00d7ff; text-decoration-color: #00d7ff\">None</span>, <span style=\"color: #00af00; text-decoration-color: #00af00\">128</span>)                 │               <span style=\"color: #00af00; text-decoration-color: #00af00\">0</span> │\n",
       "├──────────────────────────────────────┼─────────────────────────────┼─────────────────┤\n",
       "│ dense_2 (<span style=\"color: #0087ff; text-decoration-color: #0087ff\">Dense</span>)                      │ (<span style=\"color: #00d7ff; text-decoration-color: #00d7ff\">None</span>, <span style=\"color: #00af00; text-decoration-color: #00af00\">64</span>)                  │           <span style=\"color: #00af00; text-decoration-color: #00af00\">8,256</span> │\n",
       "├──────────────────────────────────────┼─────────────────────────────┼─────────────────┤\n",
       "│ batch_normalization_2                │ (<span style=\"color: #00d7ff; text-decoration-color: #00d7ff\">None</span>, <span style=\"color: #00af00; text-decoration-color: #00af00\">64</span>)                  │             <span style=\"color: #00af00; text-decoration-color: #00af00\">256</span> │\n",
       "│ (<span style=\"color: #0087ff; text-decoration-color: #0087ff\">BatchNormalization</span>)                 │                             │                 │\n",
       "├──────────────────────────────────────┼─────────────────────────────┼─────────────────┤\n",
       "│ dropout_2 (<span style=\"color: #0087ff; text-decoration-color: #0087ff\">Dropout</span>)                  │ (<span style=\"color: #00d7ff; text-decoration-color: #00d7ff\">None</span>, <span style=\"color: #00af00; text-decoration-color: #00af00\">64</span>)                  │               <span style=\"color: #00af00; text-decoration-color: #00af00\">0</span> │\n",
       "├──────────────────────────────────────┼─────────────────────────────┼─────────────────┤\n",
       "│ dense_3 (<span style=\"color: #0087ff; text-decoration-color: #0087ff\">Dense</span>)                      │ (<span style=\"color: #00d7ff; text-decoration-color: #00d7ff\">None</span>, <span style=\"color: #00af00; text-decoration-color: #00af00\">32</span>)                  │           <span style=\"color: #00af00; text-decoration-color: #00af00\">2,080</span> │\n",
       "├──────────────────────────────────────┼─────────────────────────────┼─────────────────┤\n",
       "│ dropout_3 (<span style=\"color: #0087ff; text-decoration-color: #0087ff\">Dropout</span>)                  │ (<span style=\"color: #00d7ff; text-decoration-color: #00d7ff\">None</span>, <span style=\"color: #00af00; text-decoration-color: #00af00\">32</span>)                  │               <span style=\"color: #00af00; text-decoration-color: #00af00\">0</span> │\n",
       "├──────────────────────────────────────┼─────────────────────────────┼─────────────────┤\n",
       "│ dense_4 (<span style=\"color: #0087ff; text-decoration-color: #0087ff\">Dense</span>)                      │ (<span style=\"color: #00d7ff; text-decoration-color: #00d7ff\">None</span>, <span style=\"color: #00af00; text-decoration-color: #00af00\">1</span>)                   │              <span style=\"color: #00af00; text-decoration-color: #00af00\">33</span> │\n",
       "└──────────────────────────────────────┴─────────────────────────────┴─────────────────┘\n",
       "</pre>\n"
      ],
      "text/plain": [
       "┏━━━━━━━━━━━━━━━━━━━━━━━━━━━━━━━━━━━━━━┳━━━━━━━━━━━━━━━━━━━━━━━━━━━━━┳━━━━━━━━━━━━━━━━━┓\n",
       "┃\u001b[1m \u001b[0m\u001b[1mLayer (type)                        \u001b[0m\u001b[1m \u001b[0m┃\u001b[1m \u001b[0m\u001b[1mOutput Shape               \u001b[0m\u001b[1m \u001b[0m┃\u001b[1m \u001b[0m\u001b[1m        Param #\u001b[0m\u001b[1m \u001b[0m┃\n",
       "┡━━━━━━━━━━━━━━━━━━━━━━━━━━━━━━━━━━━━━━╇━━━━━━━━━━━━━━━━━━━━━━━━━━━━━╇━━━━━━━━━━━━━━━━━┩\n",
       "│ dense (\u001b[38;5;33mDense\u001b[0m)                        │ (\u001b[38;5;45mNone\u001b[0m, \u001b[38;5;34m256\u001b[0m)                 │           \u001b[38;5;34m2,560\u001b[0m │\n",
       "├──────────────────────────────────────┼─────────────────────────────┼─────────────────┤\n",
       "│ batch_normalization                  │ (\u001b[38;5;45mNone\u001b[0m, \u001b[38;5;34m256\u001b[0m)                 │           \u001b[38;5;34m1,024\u001b[0m │\n",
       "│ (\u001b[38;5;33mBatchNormalization\u001b[0m)                 │                             │                 │\n",
       "├──────────────────────────────────────┼─────────────────────────────┼─────────────────┤\n",
       "│ dropout (\u001b[38;5;33mDropout\u001b[0m)                    │ (\u001b[38;5;45mNone\u001b[0m, \u001b[38;5;34m256\u001b[0m)                 │               \u001b[38;5;34m0\u001b[0m │\n",
       "├──────────────────────────────────────┼─────────────────────────────┼─────────────────┤\n",
       "│ dense_1 (\u001b[38;5;33mDense\u001b[0m)                      │ (\u001b[38;5;45mNone\u001b[0m, \u001b[38;5;34m128\u001b[0m)                 │          \u001b[38;5;34m32,896\u001b[0m │\n",
       "├──────────────────────────────────────┼─────────────────────────────┼─────────────────┤\n",
       "│ batch_normalization_1                │ (\u001b[38;5;45mNone\u001b[0m, \u001b[38;5;34m128\u001b[0m)                 │             \u001b[38;5;34m512\u001b[0m │\n",
       "│ (\u001b[38;5;33mBatchNormalization\u001b[0m)                 │                             │                 │\n",
       "├──────────────────────────────────────┼─────────────────────────────┼─────────────────┤\n",
       "│ dropout_1 (\u001b[38;5;33mDropout\u001b[0m)                  │ (\u001b[38;5;45mNone\u001b[0m, \u001b[38;5;34m128\u001b[0m)                 │               \u001b[38;5;34m0\u001b[0m │\n",
       "├──────────────────────────────────────┼─────────────────────────────┼─────────────────┤\n",
       "│ dense_2 (\u001b[38;5;33mDense\u001b[0m)                      │ (\u001b[38;5;45mNone\u001b[0m, \u001b[38;5;34m64\u001b[0m)                  │           \u001b[38;5;34m8,256\u001b[0m │\n",
       "├──────────────────────────────────────┼─────────────────────────────┼─────────────────┤\n",
       "│ batch_normalization_2                │ (\u001b[38;5;45mNone\u001b[0m, \u001b[38;5;34m64\u001b[0m)                  │             \u001b[38;5;34m256\u001b[0m │\n",
       "│ (\u001b[38;5;33mBatchNormalization\u001b[0m)                 │                             │                 │\n",
       "├──────────────────────────────────────┼─────────────────────────────┼─────────────────┤\n",
       "│ dropout_2 (\u001b[38;5;33mDropout\u001b[0m)                  │ (\u001b[38;5;45mNone\u001b[0m, \u001b[38;5;34m64\u001b[0m)                  │               \u001b[38;5;34m0\u001b[0m │\n",
       "├──────────────────────────────────────┼─────────────────────────────┼─────────────────┤\n",
       "│ dense_3 (\u001b[38;5;33mDense\u001b[0m)                      │ (\u001b[38;5;45mNone\u001b[0m, \u001b[38;5;34m32\u001b[0m)                  │           \u001b[38;5;34m2,080\u001b[0m │\n",
       "├──────────────────────────────────────┼─────────────────────────────┼─────────────────┤\n",
       "│ dropout_3 (\u001b[38;5;33mDropout\u001b[0m)                  │ (\u001b[38;5;45mNone\u001b[0m, \u001b[38;5;34m32\u001b[0m)                  │               \u001b[38;5;34m0\u001b[0m │\n",
       "├──────────────────────────────────────┼─────────────────────────────┼─────────────────┤\n",
       "│ dense_4 (\u001b[38;5;33mDense\u001b[0m)                      │ (\u001b[38;5;45mNone\u001b[0m, \u001b[38;5;34m1\u001b[0m)                   │              \u001b[38;5;34m33\u001b[0m │\n",
       "└──────────────────────────────────────┴─────────────────────────────┴─────────────────┘\n"
      ]
     },
     "metadata": {},
     "output_type": "display_data"
    },
    {
     "data": {
      "text/html": [
       "<pre style=\"white-space:pre;overflow-x:auto;line-height:normal;font-family:Menlo,'DejaVu Sans Mono',consolas,'Courier New',monospace\"><span style=\"font-weight: bold\"> Total params: </span><span style=\"color: #00af00; text-decoration-color: #00af00\">47,617</span> (186.00 KB)\n",
       "</pre>\n"
      ],
      "text/plain": [
       "\u001b[1m Total params: \u001b[0m\u001b[38;5;34m47,617\u001b[0m (186.00 KB)\n"
      ]
     },
     "metadata": {},
     "output_type": "display_data"
    },
    {
     "data": {
      "text/html": [
       "<pre style=\"white-space:pre;overflow-x:auto;line-height:normal;font-family:Menlo,'DejaVu Sans Mono',consolas,'Courier New',monospace\"><span style=\"font-weight: bold\"> Trainable params: </span><span style=\"color: #00af00; text-decoration-color: #00af00\">46,721</span> (182.50 KB)\n",
       "</pre>\n"
      ],
      "text/plain": [
       "\u001b[1m Trainable params: \u001b[0m\u001b[38;5;34m46,721\u001b[0m (182.50 KB)\n"
      ]
     },
     "metadata": {},
     "output_type": "display_data"
    },
    {
     "data": {
      "text/html": [
       "<pre style=\"white-space:pre;overflow-x:auto;line-height:normal;font-family:Menlo,'DejaVu Sans Mono',consolas,'Courier New',monospace\"><span style=\"font-weight: bold\"> Non-trainable params: </span><span style=\"color: #00af00; text-decoration-color: #00af00\">896</span> (3.50 KB)\n",
       "</pre>\n"
      ],
      "text/plain": [
       "\u001b[1m Non-trainable params: \u001b[0m\u001b[38;5;34m896\u001b[0m (3.50 KB)\n"
      ]
     },
     "metadata": {},
     "output_type": "display_data"
    }
   ],
   "source": [
    "from tensorflow.keras.models import Sequential\n",
    "from tensorflow.keras.layers import Dense, Dropout, BatchNormalization\n",
    "from tensorflow.keras.regularizers import l2\n",
    "from tensorflow.keras.optimizers import SGD  # or AdamW\n",
    "from tensorflow.keras.callbacks import EarlyStopping, ReduceLROnPlateau\n",
    "\n",
    "# Define the model\n",
    "model = Sequential([\n",
    "    Dense(256, activation='relu', kernel_regularizer=l2(0.001), input_shape=(X_resampled.shape[1],)),\n",
    "    BatchNormalization(),\n",
    "    Dropout(0.4),\n",
    "\n",
    "    Dense(128, activation='relu', kernel_regularizer=l2(0.001)),\n",
    "    BatchNormalization(),\n",
    "    Dropout(0.3),\n",
    "\n",
    "    Dense(64, activation='relu', kernel_regularizer=l2(0.001)),\n",
    "    BatchNormalization(),\n",
    "    Dropout(0.3),\n",
    "\n",
    "    Dense(32, activation='relu', kernel_regularizer=l2(0.001)),\n",
    "    Dropout(0.2),\n",
    "\n",
    "    Dense(32, activation='relu', kernel_regularizer=l2(0.001)),\n",
    "    Dropout(0.2),\n",
    "    \n",
    "\n",
    "    Dense(1, activation='sigmoid')  # Binary classification\n",
    "])\n",
    "\n",
    "\n",
    "model.compile(\n",
    "    optimizer = SGD(learning_rate=0.01, momentum=0.9, nesterov=True),  # ↓ Learning rate for stability\n",
    "    loss='binary_crossentropy',\n",
    "    metrics=['accuracy']\n",
    ")\n",
    "model.summary()"
   ]
  },
  {
   "cell_type": "code",
   "execution_count": 27,
   "id": "c3dfdd64-0f34-48a6-ac28-f72d90089a7f",
   "metadata": {},
   "outputs": [
    {
     "name": "stdout",
     "output_type": "stream",
     "text": [
      "Epoch 1/100\n",
      "\u001b[1m120/120\u001b[0m \u001b[32m━━━━━━━━━━━━━━━━━━━━\u001b[0m\u001b[37m\u001b[0m \u001b[1m1s\u001b[0m 7ms/step - accuracy: 0.8951 - loss: 0.3505 - val_accuracy: 0.8850 - val_loss: 0.4260 - learning_rate: 9.7656e-06\n",
      "Epoch 2/100\n",
      "\u001b[1m120/120\u001b[0m \u001b[32m━━━━━━━━━━━━━━━━━━━━\u001b[0m\u001b[37m\u001b[0m \u001b[1m1s\u001b[0m 5ms/step - accuracy: 0.8882 - loss: 0.3577 - val_accuracy: 0.8850 - val_loss: 0.4260 - learning_rate: 9.7656e-06\n",
      "Epoch 3/100\n",
      "\u001b[1m120/120\u001b[0m \u001b[32m━━━━━━━━━━━━━━━━━━━━\u001b[0m\u001b[37m\u001b[0m \u001b[1m1s\u001b[0m 5ms/step - accuracy: 0.8985 - loss: 0.3368 - val_accuracy: 0.8850 - val_loss: 0.4243 - learning_rate: 9.7656e-06\n",
      "Epoch 4/100\n",
      "\u001b[1m120/120\u001b[0m \u001b[32m━━━━━━━━━━━━━━━━━━━━\u001b[0m\u001b[37m\u001b[0m \u001b[1m1s\u001b[0m 5ms/step - accuracy: 0.8895 - loss: 0.3559 - val_accuracy: 0.8833 - val_loss: 0.4252 - learning_rate: 9.7656e-06\n",
      "Epoch 5/100\n",
      "\u001b[1m118/120\u001b[0m \u001b[32m━━━━━━━━━━━━━━━━━━━\u001b[0m\u001b[37m━\u001b[0m \u001b[1m0s\u001b[0m 4ms/step - accuracy: 0.8884 - loss: 0.3556\n",
      "Epoch 5: ReduceLROnPlateau reducing learning rate to 4.882812390860636e-06.\n",
      "\u001b[1m120/120\u001b[0m \u001b[32m━━━━━━━━━━━━━━━━━━━━\u001b[0m\u001b[37m\u001b[0m \u001b[1m1s\u001b[0m 5ms/step - accuracy: 0.8886 - loss: 0.3555 - val_accuracy: 0.8850 - val_loss: 0.4248 - learning_rate: 9.7656e-06\n",
      "Epoch 6/100\n",
      "\u001b[1m120/120\u001b[0m \u001b[32m━━━━━━━━━━━━━━━━━━━━\u001b[0m\u001b[37m\u001b[0m \u001b[1m1s\u001b[0m 5ms/step - accuracy: 0.9000 - loss: 0.3382 - val_accuracy: 0.8850 - val_loss: 0.4249 - learning_rate: 4.8828e-06\n",
      "Epoch 7/100\n",
      "\u001b[1m114/120\u001b[0m \u001b[32m━━━━━━━━━━━━━━━━━━━\u001b[0m\u001b[37m━\u001b[0m \u001b[1m0s\u001b[0m 4ms/step - accuracy: 0.8920 - loss: 0.3426\n",
      "Epoch 7: ReduceLROnPlateau reducing learning rate to 2.441406195430318e-06.\n",
      "\u001b[1m120/120\u001b[0m \u001b[32m━━━━━━━━━━━━━━━━━━━━\u001b[0m\u001b[37m\u001b[0m \u001b[1m1s\u001b[0m 5ms/step - accuracy: 0.8923 - loss: 0.3427 - val_accuracy: 0.8850 - val_loss: 0.4259 - learning_rate: 4.8828e-06\n",
      "Epoch 8/100\n",
      "\u001b[1m120/120\u001b[0m \u001b[32m━━━━━━━━━━━━━━━━━━━━\u001b[0m\u001b[37m\u001b[0m \u001b[1m1s\u001b[0m 5ms/step - accuracy: 0.9050 - loss: 0.3389 - val_accuracy: 0.8850 - val_loss: 0.4256 - learning_rate: 2.4414e-06\n",
      "Epoch 9/100\n",
      "\u001b[1m113/120\u001b[0m \u001b[32m━━━━━━━━━━━━━━━━━━\u001b[0m\u001b[37m━━\u001b[0m \u001b[1m0s\u001b[0m 4ms/step - accuracy: 0.8988 - loss: 0.3530\n",
      "Epoch 9: ReduceLROnPlateau reducing learning rate to 1.220703097715159e-06.\n",
      "\u001b[1m120/120\u001b[0m \u001b[32m━━━━━━━━━━━━━━━━━━━━\u001b[0m\u001b[37m\u001b[0m \u001b[1m1s\u001b[0m 6ms/step - accuracy: 0.8989 - loss: 0.3524 - val_accuracy: 0.8833 - val_loss: 0.4260 - learning_rate: 2.4414e-06\n",
      "Epoch 10/100\n",
      "\u001b[1m120/120\u001b[0m \u001b[32m━━━━━━━━━━━━━━━━━━━━\u001b[0m\u001b[37m\u001b[0m \u001b[1m1s\u001b[0m 5ms/step - accuracy: 0.8978 - loss: 0.3492 - val_accuracy: 0.8833 - val_loss: 0.4250 - learning_rate: 1.2207e-06\n",
      "Epoch 11/100\n",
      "\u001b[1m112/120\u001b[0m \u001b[32m━━━━━━━━━━━━━━━━━━\u001b[0m\u001b[37m━━\u001b[0m \u001b[1m0s\u001b[0m 4ms/step - accuracy: 0.9036 - loss: 0.3312\n",
      "Epoch 11: ReduceLROnPlateau reducing learning rate to 6.103515488575795e-07.\n",
      "\u001b[1m120/120\u001b[0m \u001b[32m━━━━━━━━━━━━━━━━━━━━\u001b[0m\u001b[37m\u001b[0m \u001b[1m1s\u001b[0m 5ms/step - accuracy: 0.9030 - loss: 0.3320 - val_accuracy: 0.8833 - val_loss: 0.4264 - learning_rate: 1.2207e-06\n",
      "Epoch 12/100\n",
      "\u001b[1m120/120\u001b[0m \u001b[32m━━━━━━━━━━━━━━━━━━━━\u001b[0m\u001b[37m\u001b[0m \u001b[1m1s\u001b[0m 5ms/step - accuracy: 0.9061 - loss: 0.3339 - val_accuracy: 0.8850 - val_loss: 0.4252 - learning_rate: 6.1035e-07\n",
      "Epoch 13/100\n",
      "\u001b[1m115/120\u001b[0m \u001b[32m━━━━━━━━━━━━━━━━━━━\u001b[0m\u001b[37m━\u001b[0m \u001b[1m0s\u001b[0m 4ms/step - accuracy: 0.9012 - loss: 0.3418\n",
      "Epoch 13: ReduceLROnPlateau reducing learning rate to 3.0517577442878974e-07.\n",
      "\u001b[1m120/120\u001b[0m \u001b[32m━━━━━━━━━━━━━━━━━━━━\u001b[0m\u001b[37m\u001b[0m \u001b[1m1s\u001b[0m 5ms/step - accuracy: 0.9011 - loss: 0.3417 - val_accuracy: 0.8850 - val_loss: 0.4264 - learning_rate: 6.1035e-07\n",
      "Epoch 14/100\n",
      "\u001b[1m120/120\u001b[0m \u001b[32m━━━━━━━━━━━━━━━━━━━━\u001b[0m\u001b[37m\u001b[0m \u001b[1m1s\u001b[0m 5ms/step - accuracy: 0.8974 - loss: 0.3553 - val_accuracy: 0.8850 - val_loss: 0.4265 - learning_rate: 3.0518e-07\n",
      "Epoch 15/100\n",
      "\u001b[1m119/120\u001b[0m \u001b[32m━━━━━━━━━━━━━━━━━━━\u001b[0m\u001b[37m━\u001b[0m \u001b[1m0s\u001b[0m 4ms/step - accuracy: 0.9007 - loss: 0.3349\n",
      "Epoch 15: ReduceLROnPlateau reducing learning rate to 1.5258788721439487e-07.\n",
      "\u001b[1m120/120\u001b[0m \u001b[32m━━━━━━━━━━━━━━━━━━━━\u001b[0m\u001b[37m\u001b[0m \u001b[1m1s\u001b[0m 5ms/step - accuracy: 0.9006 - loss: 0.3349 - val_accuracy: 0.8833 - val_loss: 0.4259 - learning_rate: 3.0518e-07\n",
      "Epoch 16/100\n",
      "\u001b[1m120/120\u001b[0m \u001b[32m━━━━━━━━━━━━━━━━━━━━\u001b[0m\u001b[37m\u001b[0m \u001b[1m1s\u001b[0m 5ms/step - accuracy: 0.9006 - loss: 0.3375 - val_accuracy: 0.8833 - val_loss: 0.4264 - learning_rate: 1.5259e-07\n",
      "Epoch 17/100\n",
      "\u001b[1m111/120\u001b[0m \u001b[32m━━━━━━━━━━━━━━━━━━\u001b[0m\u001b[37m━━\u001b[0m \u001b[1m0s\u001b[0m 4ms/step - accuracy: 0.9050 - loss: 0.3383\n",
      "Epoch 17: ReduceLROnPlateau reducing learning rate to 7.629394360719743e-08.\n",
      "\u001b[1m120/120\u001b[0m \u001b[32m━━━━━━━━━━━━━━━━━━━━\u001b[0m\u001b[37m\u001b[0m \u001b[1m1s\u001b[0m 6ms/step - accuracy: 0.9051 - loss: 0.3381 - val_accuracy: 0.8833 - val_loss: 0.4259 - learning_rate: 1.5259e-07\n",
      "Epoch 18/100\n",
      "\u001b[1m120/120\u001b[0m \u001b[32m━━━━━━━━━━━━━━━━━━━━\u001b[0m\u001b[37m\u001b[0m \u001b[1m1s\u001b[0m 5ms/step - accuracy: 0.8985 - loss: 0.3381 - val_accuracy: 0.8833 - val_loss: 0.4267 - learning_rate: 7.6294e-08\n",
      "Epoch 19/100\n",
      "\u001b[1m111/120\u001b[0m \u001b[32m━━━━━━━━━━━━━━━━━━\u001b[0m\u001b[37m━━\u001b[0m \u001b[1m0s\u001b[0m 4ms/step - accuracy: 0.8867 - loss: 0.3756\n",
      "Epoch 19: ReduceLROnPlateau reducing learning rate to 3.814697180359872e-08.\n",
      "\u001b[1m120/120\u001b[0m \u001b[32m━━━━━━━━━━━━━━━━━━━━\u001b[0m\u001b[37m\u001b[0m \u001b[1m1s\u001b[0m 5ms/step - accuracy: 0.8874 - loss: 0.3736 - val_accuracy: 0.8850 - val_loss: 0.4266 - learning_rate: 7.6294e-08\n",
      "Epoch 20/100\n",
      "\u001b[1m120/120\u001b[0m \u001b[32m━━━━━━━━━━━━━━━━━━━━\u001b[0m\u001b[37m\u001b[0m \u001b[1m1s\u001b[0m 5ms/step - accuracy: 0.9103 - loss: 0.3148 - val_accuracy: 0.8850 - val_loss: 0.4275 - learning_rate: 3.8147e-08\n",
      "Epoch 21/100\n",
      "\u001b[1m111/120\u001b[0m \u001b[32m━━━━━━━━━━━━━━━━━━\u001b[0m\u001b[37m━━\u001b[0m \u001b[1m0s\u001b[0m 4ms/step - accuracy: 0.8968 - loss: 0.3507\n",
      "Epoch 21: ReduceLROnPlateau reducing learning rate to 1.907348590179936e-08.\n",
      "\u001b[1m120/120\u001b[0m \u001b[32m━━━━━━━━━━━━━━━━━━━━\u001b[0m\u001b[37m\u001b[0m \u001b[1m1s\u001b[0m 5ms/step - accuracy: 0.8973 - loss: 0.3498 - val_accuracy: 0.8850 - val_loss: 0.4261 - learning_rate: 3.8147e-08\n",
      "Epoch 22/100\n",
      "\u001b[1m120/120\u001b[0m \u001b[32m━━━━━━━━━━━━━━━━━━━━\u001b[0m\u001b[37m\u001b[0m \u001b[1m1s\u001b[0m 5ms/step - accuracy: 0.9005 - loss: 0.3349 - val_accuracy: 0.8850 - val_loss: 0.4270 - learning_rate: 1.9073e-08\n",
      "Epoch 23/100\n",
      "\u001b[1m112/120\u001b[0m \u001b[32m━━━━━━━━━━━━━━━━━━\u001b[0m\u001b[37m━━\u001b[0m \u001b[1m0s\u001b[0m 4ms/step - accuracy: 0.8921 - loss: 0.3619\n",
      "Epoch 23: ReduceLROnPlateau reducing learning rate to 9.53674295089968e-09.\n",
      "\u001b[1m120/120\u001b[0m \u001b[32m━━━━━━━━━━━━━━━━━━━━\u001b[0m\u001b[37m\u001b[0m \u001b[1m1s\u001b[0m 5ms/step - accuracy: 0.8923 - loss: 0.3612 - val_accuracy: 0.8850 - val_loss: 0.4260 - learning_rate: 1.9073e-08\n"
     ]
    }
   ],
   "source": [
    "# Callbacks\n",
    "early_stop = EarlyStopping(patience=20, restore_best_weights=True, monitor='val_loss')\n",
    "reduce_lr = ReduceLROnPlateau(patience=2, factor=0.5, verbose=1)\n",
    "\n",
    "# Train\n",
    "history = model.fit(\n",
    "    X_resampled, y_resampled,\n",
    "    validation_data=(X_val, y_val),\n",
    "    epochs=100,\n",
    "    batch_size=32,\n",
    "    callbacks=[early_stop, reduce_lr],\n",
    "    verbose=1\n",
    ")\n"
   ]
  },
  {
   "cell_type": "code",
   "execution_count": 28,
   "id": "2da6a0cd-dc00-4291-ab81-e0c314fe1f8f",
   "metadata": {},
   "outputs": [
    {
     "name": "stdout",
     "output_type": "stream",
     "text": [
      "\u001b[1m19/19\u001b[0m \u001b[32m━━━━━━━━━━━━━━━━━━━━\u001b[0m\u001b[37m\u001b[0m \u001b[1m0s\u001b[0m 3ms/step \n"
     ]
    },
    {
     "data": {
      "image/png": "[encoded data removed]",
      "text/plain": [
       "<Figure size 1000x400 with 1 Axes>"
      ]
     },
     "metadata": {},
     "output_type": "display_data"
    },
    {
     "name": "stdout",
     "output_type": "stream",
     "text": [
      "🔍 Best Threshold: 0.50\n",
      "✅ F1 Score:       0.7509\n",
      "📌 Precision:      0.6624\n",
      "📌 Recall:         0.8667\n",
      "📌 ROC AUC:        0.9050\n"
     ]
    }
   ],
   "source": [
    "from sklearn.metrics import f1_score, precision_score, recall_score, roc_auc_score\n",
    "import numpy as np\n",
    "import matplotlib.pyplot as plt\n",
    "\n",
    "# Predict probabilities\n",
    "y_val_probs = model.predict(X_val).ravel()\n",
    "\n",
    "# Try multiple thresholds to find best F1\n",
    "thresholds = np.linspace(0.1, 0.9, 81)\n",
    "f1_scores = [f1_score(y_val, y_val_probs >= t) for t in thresholds]\n",
    "\n",
    "# Find best threshold\n",
    "best_idx = np.argmax(f1_scores)\n",
    "best_threshold = thresholds[best_idx]\n",
    "best_f1 = f1_scores[best_idx]\n",
    "\n",
    "# Plot F1 vs Threshold\n",
    "plt.figure(figsize=(10, 4))\n",
    "plt.plot(thresholds, f1_scores, label='F1 Score')\n",
    "plt.axvline(best_threshold, color='red', linestyle='--', label=f'Best Threshold: {best_threshold:.2f}')\n",
    "plt.title(\"F1 Score vs Threshold\")\n",
    "plt.xlabel(\"Threshold\")\n",
    "plt.ylabel(\"F1 Score\")\n",
    "plt.legend()\n",
    "plt.grid(True)\n",
    "plt.show()\n",
    "\n",
    "# Final classification with best threshold\n",
    "y_val_pred = (y_val_probs >= best_threshold).astype(int)\n",
    "\n",
    "# Show metrics\n",
    "print(f\"🔍 Best Threshold: {best_threshold:.2f}\")\n",
    "print(f\"✅ F1 Score:       {f1_score(y_val, y_val_pred):.4f}\")\n",
    "print(f\"📌 Precision:      {precision_score(y_val, y_val_pred):.4f}\")\n",
    "print(f\"📌 Recall:         {recall_score(y_val, y_val_pred):.4f}\")\n",
    "print(f\"📌 ROC AUC:        {roc_auc_score(y_val, y_val_probs):.4f}\")\n"
   ]
  },
  {
   "cell_type": "code",
   "execution_count": 22,
   "id": "7a5e7f3f-7871-4aad-81f6-2ef3f470a065",
   "metadata": {},
   "outputs": [],
   "source": [
    "model.save(\"mymodel.keras\")"
   ]
  },
  {
   "cell_type": "code",
   "execution_count": 23,
   "id": "4df8e24f-4c8b-4969-ad2f-c89d2497e648",
   "metadata": {},
   "outputs": [],
   "source": [
    "import pandas as pd\n",
    "import numpy as np\n",
    "\n",
    "# Load test data\n",
    "test_data = pd.read_csv(\"ANN_Challenge_Test_with_ID_v1.csv\")\n",
    "\n",
    "# Sensor columns\n",
    "sensor_cols = [col for col in test_data.columns if col.startswith(\"Sensor_\")]\n",
    "\n",
    "# Sensor product\n",
    "test_data['Sensor_Product'] = test_data[sensor_cols].prod(axis=1)\n",
    "\n",
    "# Delta features\n",
    "test_data['Sensor_1_minus_2'] = test_data['Sensor_1'] - test_data['Sensor_2']\n",
    "test_data['Sensor_2_minus_3'] = test_data['Sensor_2'] - test_data['Sensor_3']\n",
    "\n",
    "# Ratio feature\n",
    "test_data['Sensor_1_div_2'] = test_data['Sensor_1'] / (test_data['Sensor_2'] + 1e-6)\n",
    "\n",
    "# Polynomial features\n",
    "test_data['Sensor_1_sq'] = test_data['Sensor_1'] ** 2\n",
    "test_data['Sensor_1_x_Sensor_2'] = test_data['Sensor_1'] * test_data['Sensor_2']\n",
    "\n",
    "# Log transform (safe version)\n",
    "sensor_product_clipped = test_data['Sensor_Product'].clip(lower=0)\n",
    "test_data['Sensor_product_log'] = np.log1p(sensor_product_clipped)\n",
    "\n",
    "# Z-score features using train_data_imputed mean & std\n",
    "for col in sensor_cols + ['Sensor_Product']:\n",
    "    mean = train_data_imputed[col].mean()\n",
    "    std = train_data_imputed[col].std()\n",
    "    test_data[f'{col}_zscore'] = (test_data[col] - mean) / std\n",
    "\n",
    "# Ensure all training features are present\n",
    "for col in best_features:\n",
    "    if col not in test_data.columns:\n",
    "        test_data[col] = 0  # or fill with median later\n",
    "\n",
    "# Fill missing with training medians\n",
    "for col in best_features:\n",
    "    test_data[col] = test_data[col].fillna(train_data_imputed[col].median())\n",
    "\n",
    "# Final transformation using trained scaler\n",
    "X_test = scaler.transform(test_data[best_features])\n"
   ]
  },
  {
   "cell_type": "code",
   "execution_count": 24,
   "id": "e9b22537-5a88-44df-a449-25e8b8bdc242",
   "metadata": {},
   "outputs": [
    {
     "name": "stdout",
     "output_type": "stream",
     "text": [
      "\u001b[1m32/32\u001b[0m \u001b[32m━━━━━━━━━━━━━━━━━━━━\u001b[0m\u001b[37m\u001b[0m \u001b[1m0s\u001b[0m 3ms/step\n",
      "Submission file saved as: YourName_HiddenTest_Predictions.csv\n"
     ]
    }
   ],
   "source": [
    "# Predict probabilities on hidden test set\n",
    "test_probs = model.predict(X_test).ravel()\n",
    "\n",
    "# Apply tuned threshold\n",
    "test_preds = (test_probs >= best_threshold).astype(int)\n",
    "\n",
    "# Create submission DataFrame\n",
    "submission = pd.DataFrame({\n",
    "    'ID': test_data['ID'],\n",
    "    'Predicted_Label': test_preds\n",
    "})\n",
    "\n",
    "# Save submission file\n",
    "submission.to_csv(\"model7.csv\", index=False)\n",
    "\n",
    "print(\"Submission file saved as: YourName_HiddenTest_Predictions.csv\")"
   ]
  },
  {
   "cell_type": "code",
   "execution_count": 26,
   "id": "9de7b26c-e22c-4fb8-9776-115d8d60d0c2",
   "metadata": {},
   "outputs": [
    {
     "name": "stdout",
     "output_type": "stream",
     "text": [
      "Number of GPUs available: 0\n",
      "[]\n"
     ]
    }
   ],
   "source": [
    "import tensorflow as tf\n",
    "\n",
    "gpus = tf.config.list_physical_devices('GPU')\n",
    "print(f\"Number of GPUs available: {len(gpus)}\")\n",
    "print(gpus)\n"
   ]
  },
  {
   "cell_type": "code",
   "execution_count": null,
   "id": "9947b343-0f47-4216-a835-2babe1b9a064",
   "metadata": {},
   "outputs": [],
   "source": []
  }
 ],
 "metadata": {
  "kernelspec": {
   "display_name": "Python 3 (ipykernel)",
   "language": "python",
   "name": "python3"
  },
  "language_info": {
   "codemirror_mode": {
    "name": "ipython",
    "version": 3
   },
   "file_extension": ".py",
   "mimetype": "text/x-python",
   "name": "python",
   "nbconvert_exporter": "python",
   "pygments_lexer": "ipython3",
   "version": "3.12.11"
  }
 },
 "nbformat": 4,
 "nbformat_minor": 5
}
